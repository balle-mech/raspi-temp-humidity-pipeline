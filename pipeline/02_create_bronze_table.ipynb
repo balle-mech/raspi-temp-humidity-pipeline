{
 "cells": [
  {
   "cell_type": "markdown",
   "metadata": {
    "application/vnd.databricks.v1+cell": {
     "cellMetadata": {},
     "inputWidgets": {},
     "nuid": "fb1da924-71f5-46d8-b7e6-63aef6812278",
     "showTitle": false,
     "tableResultSettingsMap": {},
     "title": ""
    }
   },
   "source": [
    "## bronzeテーブルのパイプラインをDatabricks Auto Loaderにて作成"
   ]
  },
  {
   "cell_type": "code",
   "execution_count": 0,
   "metadata": {
    "application/vnd.databricks.v1+cell": {
     "cellMetadata": {
      "byteLimit": 2048000,
      "rowLimit": 10000
     },
     "inputWidgets": {},
     "nuid": "b91ce0ae-3004-44ac-b5af-b921d02526f8",
     "showTitle": false,
     "tableResultSettingsMap": {},
     "title": ""
    }
   },
   "outputs": [],
   "source": [
    "%run ./00_config"
   ]
  },
  {
   "cell_type": "code",
   "execution_count": 0,
   "metadata": {
    "application/vnd.databricks.v1+cell": {
     "cellMetadata": {
      "byteLimit": 2048000,
      "rowLimit": 10000
     },
     "inputWidgets": {},
     "nuid": "e63a4f50-d3e9-45e0-b025-f2dbbb40d230",
     "showTitle": false,
     "tableResultSettingsMap": {},
     "title": ""
    }
   },
   "outputs": [],
   "source": [
    "src_file_path = f\"{raw_data_volume_path}/temp-humidity_2025-04-06_08-28-40.csv\"\n",
    "\n",
    "schema = \"\"\"\n",
    "`Timestamp` STRING,\n",
    "`Temperature` STRING,\n",
    "`Humidity` STRING\n",
    "\"\"\"\n"
   ]
  },
  {
   "cell_type": "code",
   "execution_count": 0,
   "metadata": {
    "application/vnd.databricks.v1+cell": {
     "cellMetadata": {
      "byteLimit": 2048000,
      "rowLimit": 10000
     },
     "inputWidgets": {},
     "nuid": "6fc12ee4-87e9-4de9-9c35-3508a964aac0",
     "showTitle": false,
     "tableResultSettingsMap": {},
     "title": ""
    }
   },
   "outputs": [],
   "source": [
    "# CSV の中身をチェック\n",
    "data = dbutils.fs.head(src_file_path, 700)\n",
    "print(data)"
   ]
  },
  {
   "cell_type": "code",
   "execution_count": 0,
   "metadata": {
    "application/vnd.databricks.v1+cell": {
     "cellMetadata": {
      "byteLimit": 2048000,
      "rowLimit": 10000
     },
     "inputWidgets": {},
     "nuid": "e80aac9d-7534-4101-95e0-8c30ec6b3cfa",
     "showTitle": false,
     "tableResultSettingsMap": {},
     "title": ""
    }
   },
   "outputs": [],
   "source": [
    "# Bronzeテーブルを作成\n",
    "create_table_ddl = f\"\"\"\n",
    "CREATE OR REPLACE TABLE {bronze_table_path} (\n",
    "    {schema},\n",
    "    _rescued_data STRING,\n",
    "    _datasource STRING,\n",
    "    _ingest_timestamp timestamp\n",
    ")\n",
    "USING delta\n",
    "\"\"\"\n",
    "spark.sql(create_table_ddl)"
   ]
  },
  {
   "cell_type": "code",
   "execution_count": 0,
   "metadata": {
    "application/vnd.databricks.v1+cell": {
     "cellMetadata": {
      "byteLimit": 2048000,
      "rowLimit": 10000
     },
     "inputWidgets": {},
     "nuid": "34acf5ba-8918-4414-8a1c-c7a88e2b8080",
     "showTitle": false,
     "tableResultSettingsMap": {},
     "title": ""
    }
   },
   "outputs": [],
   "source": [
    "# Databricks Auto Loader で利用するチェックポイントを初期化\n",
    "dbutils.fs.rm(checkpoint_volume_path, True)"
   ]
  },
  {
   "cell_type": "code",
   "execution_count": 0,
   "metadata": {
    "application/vnd.databricks.v1+cell": {
     "cellMetadata": {
      "byteLimit": 2048000,
      "rowLimit": 10000
     },
     "inputWidgets": {},
     "nuid": "f2ae7101-6ae1-4838-b704-5f889135409c",
     "showTitle": false,
     "tableResultSettingsMap": {},
     "title": ""
    }
   },
   "outputs": [],
   "source": [
    "# csvデータをDeltaテーブルに取り込むようにAuto Loaderを構成\n",
    "# `checkpoint_volume_path`変数を`cloudFiles.schemaLocation`に指定して、ソースからデータの読み込み処理を記述\n",
    "df = (spark.readStream\n",
    "      .format(\"cloudFiles\")\n",
    "      .option(\"cloudFiles.format\", \"csv\")\n",
    "      .option(\"cloudFiles.schemaLocation\", checkpoint_volume_path)\n",
    "      .option(\"cloudFiles.schemaHints\", schema)\n",
    "      .option(\"header\", True)\n",
    "      .load(src_file_path))\n",
    "\n",
    "print(f\"first_df:{df}\")\n",
    "print(\"------------------\")\n",
    "\n",
    "# メタデータ列を追加\n",
    "df = df.select(\"*\", \"_metadata\")\n",
    "\n",
    "print(f\"added_metadata_df:{df}\")\n",
    "print(\"------------------\")\n",
    "\n",
    "# メタデータ列に基づき監査列として、_datasource列と_ingest_timestamp列を追加\n",
    "df = (\n",
    "    df.select(\"*\", \"_metadata\")\n",
    "    .withColumn(\"_datasource\", df[\"_metadata.file_path\"])\n",
    "    .withColumn(\"_ingest_timestamp\", df[\"_metadata.file_modification_time\"])\n",
    ")\n",
    "\n",
    "print(f\"added_監査列_df:{df}\")\n",
    "print(\"------------------\")\n",
    "\n",
    "df = df.drop(\"_metadata\")"
   ]
  },
  {
   "cell_type": "code",
   "execution_count": 0,
   "metadata": {
    "application/vnd.databricks.v1+cell": {
     "cellMetadata": {},
     "inputWidgets": {},
     "nuid": "94a88a78-8998-4aa8-bb40-5e81e480fe1b",
     "showTitle": false,
     "tableResultSettingsMap": {},
     "title": ""
    }
   },
   "outputs": [],
   "source": [
    "# ToDo 監査列として`_datasource`列と`_ingest_timestamp`列を追加（`_metadata`列は追加しない）"
   ]
  },
  {
   "cell_type": "code",
   "execution_count": 0,
   "metadata": {
    "application/vnd.databricks.v1+cell": {
     "cellMetadata": {},
     "inputWidgets": {},
     "nuid": "cb14662b-27e6-4b63-9b95-2d062843a03c",
     "showTitle": false,
     "tableResultSettingsMap": {},
     "title": ""
    }
   },
   "outputs": [],
   "source": [
    "# ToDo `checkpoint_dir__c1_2_1`変数をチェックポイントとして指定して、書き込み処理を実施してください。"
   ]
  },
  {
   "cell_type": "code",
   "execution_count": 0,
   "metadata": {
    "application/vnd.databricks.v1+cell": {
     "cellMetadata": {},
     "inputWidgets": {},
     "nuid": "e48826e7-0596-442d-8e9a-36fb384f21c6",
     "showTitle": false,
     "tableResultSettingsMap": {},
     "title": ""
    }
   },
   "outputs": [],
   "source": [
    "# データが書き込まれたことを確認\n",
    "display(spark.table(f\"{tgt_table_name__c1_2_1}\"))"
   ]
  }
 ],
 "metadata": {
  "application/vnd.databricks.v1+notebook": {
   "computePreferences": null,
   "dashboards": [],
   "environmentMetadata": {
    "base_environment": "",
    "environment_version": "2"
   },
   "inputWidgetPreferences": null,
   "language": "python",
   "notebookMetadata": {
    "pythonIndentUnit": 4
   },
   "notebookName": "02_create_bronze_table",
   "widgets": {}
  },
  "language_info": {
   "name": "python"
  }
 },
 "nbformat": 4,
 "nbformat_minor": 0
}
