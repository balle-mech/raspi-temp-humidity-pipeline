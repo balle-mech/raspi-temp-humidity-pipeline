{
 "cells": [
  {
   "cell_type": "code",
   "execution_count": 0,
   "metadata": {
    "application/vnd.databricks.v1+cell": {
     "cellMetadata": {
      "byteLimit": 2048000,
      "rowLimit": 10000
     },
     "inputWidgets": {},
     "nuid": "0d7b7f8b-9249-4238-a9b7-64bef07e1d3f",
     "showTitle": false,
     "tableResultSettingsMap": {},
     "title": ""
    }
   },
   "outputs": [],
   "source": [
    "# 利用するカタログ名を設定\n",
    "catalog_name = \"test\"\n",
    "external_schema_name = \"temp_humidity_external\"\n",
    "managed_schema_name = \"temp_humidity_managed\"\n",
    "\n",
    "# テーブル名を設定\n",
    "bronze_table_name = \"temp_humidity_bronze\"\n",
    "bronze_table_path = f\"{catalog_name}.{managed_schema_name}.{bronze_table_name}\"\n",
    "silver_table_name = \"temp_humidity_silver\"\n",
    "silver_table_path = f\"{catalog_name}.{managed_schema_name}.{silver_table_name}\"\n",
    "\n",
    "# ソースファイルを配置する Volume 名を設定\n",
    "raw_data_volume_name = \"raw_data\"\n",
    "raw_data_volume_path = f\"/Volumes/{catalog_name}/{external_schema_name}/{raw_data_volume_name}\"\n",
    "\n",
    "# チェックポイントボリューム\n",
    "checkpoint_volume_name = \"checkpoint_volume_01\"\n",
    "checkpoint_volume_path = f\"/Volumes/{catalog_name}/{managed_schema_name}/{checkpoint_volume_name}\""
   ]
  }
 ],
 "metadata": {
  "application/vnd.databricks.v1+notebook": {
   "computePreferences": null,
   "dashboards": [],
   "environmentMetadata": {
    "base_environment": "",
    "environment_version": "2"
   },
   "inputWidgetPreferences": null,
   "language": "python",
   "notebookMetadata": {
    "pythonIndentUnit": 4
   },
   "notebookName": "00_config",
   "widgets": {}
  },
  "language_info": {
   "name": "python"
  }
 },
 "nbformat": 4,
 "nbformat_minor": 0
}
